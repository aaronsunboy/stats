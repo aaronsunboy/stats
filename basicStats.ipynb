{
 "cells": [
  {
   "attachments": {},
   "cell_type": "markdown",
   "metadata": {},
   "source": [
    "# Read data from an existing file\n",
    "\n",
    "1. Read in csv file from url"
   ]
  },
  {
   "cell_type": "code",
   "execution_count": 16,
   "metadata": {},
   "outputs": [
    {
     "data": {
      "text/html": [
       "<div>\n",
       "<style scoped>\n",
       "    .dataframe tbody tr th:only-of-type {\n",
       "        vertical-align: middle;\n",
       "    }\n",
       "\n",
       "    .dataframe tbody tr th {\n",
       "        vertical-align: top;\n",
       "    }\n",
       "\n",
       "    .dataframe thead th {\n",
       "        text-align: right;\n",
       "    }\n",
       "</style>\n",
       "<table border=\"1\" class=\"dataframe\">\n",
       "  <thead>\n",
       "    <tr style=\"text-align: right;\">\n",
       "      <th></th>\n",
       "      <th>Country</th>\n",
       "      <th>Region</th>\n",
       "    </tr>\n",
       "  </thead>\n",
       "  <tbody>\n",
       "    <tr>\n",
       "      <th>0</th>\n",
       "      <td>Algeria</td>\n",
       "      <td>AFRICA</td>\n",
       "    </tr>\n",
       "    <tr>\n",
       "      <th>1</th>\n",
       "      <td>Angola</td>\n",
       "      <td>AFRICA</td>\n",
       "    </tr>\n",
       "    <tr>\n",
       "      <th>2</th>\n",
       "      <td>Benin</td>\n",
       "      <td>AFRICA</td>\n",
       "    </tr>\n",
       "    <tr>\n",
       "      <th>3</th>\n",
       "      <td>Botswana</td>\n",
       "      <td>AFRICA</td>\n",
       "    </tr>\n",
       "    <tr>\n",
       "      <th>4</th>\n",
       "      <td>Burkina</td>\n",
       "      <td>AFRICA</td>\n",
       "    </tr>\n",
       "  </tbody>\n",
       "</table>\n",
       "</div>"
      ],
      "text/plain": [
       "    Country  Region\n",
       "0   Algeria  AFRICA\n",
       "1    Angola  AFRICA\n",
       "2     Benin  AFRICA\n",
       "3  Botswana  AFRICA\n",
       "4   Burkina  AFRICA"
      ]
     },
     "execution_count": 16,
     "metadata": {},
     "output_type": "execute_result"
    }
   ],
   "source": [
    "import numpy as np\n",
    "import pandas as pd\n",
    "import matplotlib.pyplot as plt\n",
    "import seaborn as sns\n",
    "\n",
    "url=\"https://raw.githubusercontent.com/cs109/2014_data/master/countries.csv\"\n",
    "c=pd.read_csv(url)\n",
    "c.head()"
   ]
  },
  {
   "attachments": {},
   "cell_type": "markdown",
   "metadata": {},
   "source": [
    "Alternatively, one may type the data and create a pandas dataframe"
   ]
  },
  {
   "cell_type": "code",
   "execution_count": 49,
   "metadata": {},
   "outputs": [
    {
     "data": {
      "text/html": [
       "<div>\n",
       "<style scoped>\n",
       "    .dataframe tbody tr th:only-of-type {\n",
       "        vertical-align: middle;\n",
       "    }\n",
       "\n",
       "    .dataframe tbody tr th {\n",
       "        vertical-align: top;\n",
       "    }\n",
       "\n",
       "    .dataframe thead th {\n",
       "        text-align: right;\n",
       "    }\n",
       "</style>\n",
       "<table border=\"1\" class=\"dataframe\">\n",
       "  <thead>\n",
       "    <tr style=\"text-align: right;\">\n",
       "      <th></th>\n",
       "      <th>Name</th>\n",
       "      <th>Age</th>\n",
       "    </tr>\n",
       "  </thead>\n",
       "  <tbody>\n",
       "    <tr>\n",
       "      <th>0</th>\n",
       "      <td>Tom</td>\n",
       "      <td>20</td>\n",
       "    </tr>\n",
       "    <tr>\n",
       "      <th>1</th>\n",
       "      <td>nick</td>\n",
       "      <td>21</td>\n",
       "    </tr>\n",
       "    <tr>\n",
       "      <th>2</th>\n",
       "      <td>krish</td>\n",
       "      <td>19</td>\n",
       "    </tr>\n",
       "    <tr>\n",
       "      <th>3</th>\n",
       "      <td>jack</td>\n",
       "      <td>18</td>\n",
       "    </tr>\n",
       "  </tbody>\n",
       "</table>\n",
       "</div>"
      ],
      "text/plain": [
       "    Name  Age\n",
       "0    Tom   20\n",
       "1   nick   21\n",
       "2  krish   19\n",
       "3   jack   18"
      ]
     },
     "execution_count": 49,
     "metadata": {},
     "output_type": "execute_result"
    }
   ],
   "source": [
    "\n",
    "# Create a DataFrame from dict narray / lists\n",
    "  \n",
    "# initialize data of lists.\n",
    "data = {'Name': ['Tom', 'nick', 'krish', 'jack'],\n",
    "        'Age': [20, 21, 19, 18]}\n",
    "  \n",
    "# Create DataFrame\n",
    "df = pd.DataFrame(data)\n",
    "  \n",
    "# Print the output.\n",
    "df"
   ]
  },
  {
   "attachments": {},
   "cell_type": "markdown",
   "metadata": {},
   "source": [
    "2. Subset a dataset"
   ]
  },
  {
   "cell_type": "code",
   "execution_count": null,
   "metadata": {},
   "outputs": [],
   "source": [
    "print(c.iloc[range(7)]) # display the first 7 rows\n",
    "c[c[\"Region\"] == \"AFRICA\"] # find all African countries"
   ]
  },
  {
   "attachments": {},
   "cell_type": "markdown",
   "metadata": {},
   "source": [
    "3. Conversion for datasets containing repeated measurement"
   ]
  },
  {
   "cell_type": "code",
   "execution_count": 4,
   "metadata": {},
   "outputs": [
    {
     "data": {
      "text/html": [
       "<div>\n",
       "<style scoped>\n",
       "    .dataframe tbody tr th:only-of-type {\n",
       "        vertical-align: middle;\n",
       "    }\n",
       "\n",
       "    .dataframe tbody tr th {\n",
       "        vertical-align: top;\n",
       "    }\n",
       "\n",
       "    .dataframe thead th {\n",
       "        text-align: right;\n",
       "    }\n",
       "</style>\n",
       "<table border=\"1\" class=\"dataframe\">\n",
       "  <thead>\n",
       "    <tr style=\"text-align: right;\">\n",
       "      <th></th>\n",
       "      <th>condition</th>\n",
       "      <th>id</th>\n",
       "      <th>y1</th>\n",
       "      <th>y2</th>\n",
       "      <th>y3</th>\n",
       "      <th>y4</th>\n",
       "    </tr>\n",
       "  </thead>\n",
       "  <tbody>\n",
       "    <tr>\n",
       "      <th>0</th>\n",
       "      <td>1</td>\n",
       "      <td>1</td>\n",
       "      <td>4.0</td>\n",
       "      <td>4.1</td>\n",
       "      <td>3.6</td>\n",
       "      <td>3.1</td>\n",
       "    </tr>\n",
       "    <tr>\n",
       "      <th>1</th>\n",
       "      <td>1</td>\n",
       "      <td>2</td>\n",
       "      <td>4.2</td>\n",
       "      <td>3.7</td>\n",
       "      <td>4.8</td>\n",
       "      <td>5.2</td>\n",
       "    </tr>\n",
       "    <tr>\n",
       "      <th>2</th>\n",
       "      <td>1</td>\n",
       "      <td>3</td>\n",
       "      <td>4.3</td>\n",
       "      <td>4.3</td>\n",
       "      <td>4.5</td>\n",
       "      <td>5.4</td>\n",
       "    </tr>\n",
       "    <tr>\n",
       "      <th>3</th>\n",
       "      <td>1</td>\n",
       "      <td>4</td>\n",
       "      <td>4.2</td>\n",
       "      <td>4.6</td>\n",
       "      <td>5.3</td>\n",
       "      <td>4.9</td>\n",
       "    </tr>\n",
       "    <tr>\n",
       "      <th>4</th>\n",
       "      <td>1</td>\n",
       "      <td>5</td>\n",
       "      <td>4.6</td>\n",
       "      <td>5.3</td>\n",
       "      <td>5.9</td>\n",
       "      <td>5.3</td>\n",
       "    </tr>\n",
       "  </tbody>\n",
       "</table>\n",
       "</div>"
      ],
      "text/plain": [
       "   condition  id   y1   y2   y3   y4\n",
       "0          1   1  4.0  4.1  3.6  3.1\n",
       "1          1   2  4.2  3.7  4.8  5.2\n",
       "2          1   3  4.3  4.3  4.5  5.4\n",
       "3          1   4  4.2  4.6  5.3  4.9\n",
       "4          1   5  4.6  5.3  5.9  5.3"
      ]
     },
     "execution_count": 4,
     "metadata": {},
     "output_type": "execute_result"
    }
   ],
   "source": [
    "namelst = [\"y\" + str(i) for i in range(1, 5)]\n",
    "namelst[0:0] = [\"condition\",\"id\"]\n",
    "dog=pd.read_csv(\"https://online.stat.psu.edu/onlinecourses/sites/stat505/files/data/dog1.txt\", delimiter=\"\\s+\", header=None)\n",
    "dog.columns = namelst\n",
    "dog.head()\n",
    "\n",
    "# the following sep=\" \" is unsafe because it thinks the delimiter is a single space\n",
    "# dog1=pd.read_csv(\"https://online.stat.psu.edu/onlinecourses/sites/stat505/files/data/dog1.txt\", sep=\" \", header=None)\n",
    "# dog1.head()"
   ]
  },
  {
   "attachments": {},
   "cell_type": "markdown",
   "metadata": {},
   "source": [
    "- Wide to long"
   ]
  },
  {
   "cell_type": "code",
   "execution_count": 5,
   "metadata": {},
   "outputs": [
    {
     "data": {
      "text/html": [
       "<div>\n",
       "<style scoped>\n",
       "    .dataframe tbody tr th:only-of-type {\n",
       "        vertical-align: middle;\n",
       "    }\n",
       "\n",
       "    .dataframe tbody tr th {\n",
       "        vertical-align: top;\n",
       "    }\n",
       "\n",
       "    .dataframe thead th {\n",
       "        text-align: right;\n",
       "    }\n",
       "</style>\n",
       "<table border=\"1\" class=\"dataframe\">\n",
       "  <thead>\n",
       "    <tr style=\"text-align: right;\">\n",
       "      <th></th>\n",
       "      <th>condition</th>\n",
       "      <th>id</th>\n",
       "      <th>measurement</th>\n",
       "      <th>value</th>\n",
       "    </tr>\n",
       "  </thead>\n",
       "  <tbody>\n",
       "    <tr>\n",
       "      <th>0</th>\n",
       "      <td>1</td>\n",
       "      <td>1</td>\n",
       "      <td>y1</td>\n",
       "      <td>4.0</td>\n",
       "    </tr>\n",
       "    <tr>\n",
       "      <th>1</th>\n",
       "      <td>1</td>\n",
       "      <td>2</td>\n",
       "      <td>y1</td>\n",
       "      <td>4.2</td>\n",
       "    </tr>\n",
       "    <tr>\n",
       "      <th>2</th>\n",
       "      <td>1</td>\n",
       "      <td>3</td>\n",
       "      <td>y1</td>\n",
       "      <td>4.3</td>\n",
       "    </tr>\n",
       "    <tr>\n",
       "      <th>3</th>\n",
       "      <td>1</td>\n",
       "      <td>4</td>\n",
       "      <td>y1</td>\n",
       "      <td>4.2</td>\n",
       "    </tr>\n",
       "    <tr>\n",
       "      <th>4</th>\n",
       "      <td>1</td>\n",
       "      <td>5</td>\n",
       "      <td>y1</td>\n",
       "      <td>4.6</td>\n",
       "    </tr>\n",
       "  </tbody>\n",
       "</table>\n",
       "</div>"
      ],
      "text/plain": [
       "   condition  id measurement  value\n",
       "0          1   1          y1    4.0\n",
       "1          1   2          y1    4.2\n",
       "2          1   3          y1    4.3\n",
       "3          1   4          y1    4.2\n",
       "4          1   5          y1    4.6"
      ]
     },
     "execution_count": 5,
     "metadata": {},
     "output_type": "execute_result"
    }
   ],
   "source": [
    "dog_long = pd.melt(dog, id_vars=[\"condition\", \"id\"], var_name=\"measurement\", value_name=\"value\")\n",
    "\n",
    "dog_long.head()"
   ]
  },
  {
   "attachments": {},
   "cell_type": "markdown",
   "metadata": {},
   "source": [
    "- Long to wide"
   ]
  },
  {
   "cell_type": "code",
   "execution_count": 6,
   "metadata": {},
   "outputs": [
    {
     "data": {
      "text/html": [
       "<div>\n",
       "<style scoped>\n",
       "    .dataframe tbody tr th:only-of-type {\n",
       "        vertical-align: middle;\n",
       "    }\n",
       "\n",
       "    .dataframe tbody tr th {\n",
       "        vertical-align: top;\n",
       "    }\n",
       "\n",
       "    .dataframe thead th {\n",
       "        text-align: right;\n",
       "    }\n",
       "</style>\n",
       "<table border=\"1\" class=\"dataframe\">\n",
       "  <thead>\n",
       "    <tr style=\"text-align: right;\">\n",
       "      <th>measurement</th>\n",
       "      <th>id</th>\n",
       "      <th>condition</th>\n",
       "      <th>y1</th>\n",
       "      <th>y2</th>\n",
       "      <th>y3</th>\n",
       "      <th>y4</th>\n",
       "    </tr>\n",
       "  </thead>\n",
       "  <tbody>\n",
       "    <tr>\n",
       "      <th>0</th>\n",
       "      <td>1</td>\n",
       "      <td>1</td>\n",
       "      <td>4.0</td>\n",
       "      <td>4.1</td>\n",
       "      <td>3.6</td>\n",
       "      <td>3.1</td>\n",
       "    </tr>\n",
       "    <tr>\n",
       "      <th>1</th>\n",
       "      <td>2</td>\n",
       "      <td>1</td>\n",
       "      <td>4.2</td>\n",
       "      <td>3.7</td>\n",
       "      <td>4.8</td>\n",
       "      <td>5.2</td>\n",
       "    </tr>\n",
       "    <tr>\n",
       "      <th>2</th>\n",
       "      <td>3</td>\n",
       "      <td>1</td>\n",
       "      <td>4.3</td>\n",
       "      <td>4.3</td>\n",
       "      <td>4.5</td>\n",
       "      <td>5.4</td>\n",
       "    </tr>\n",
       "    <tr>\n",
       "      <th>3</th>\n",
       "      <td>4</td>\n",
       "      <td>1</td>\n",
       "      <td>4.2</td>\n",
       "      <td>4.6</td>\n",
       "      <td>5.3</td>\n",
       "      <td>4.9</td>\n",
       "    </tr>\n",
       "    <tr>\n",
       "      <th>4</th>\n",
       "      <td>5</td>\n",
       "      <td>1</td>\n",
       "      <td>4.6</td>\n",
       "      <td>5.3</td>\n",
       "      <td>5.9</td>\n",
       "      <td>5.3</td>\n",
       "    </tr>\n",
       "  </tbody>\n",
       "</table>\n",
       "</div>"
      ],
      "text/plain": [
       "measurement  id  condition   y1   y2   y3   y4\n",
       "0             1          1  4.0  4.1  3.6  3.1\n",
       "1             2          1  4.2  3.7  4.8  5.2\n",
       "2             3          1  4.3  4.3  4.5  5.4\n",
       "3             4          1  4.2  4.6  5.3  4.9\n",
       "4             5          1  4.6  5.3  5.9  5.3"
      ]
     },
     "execution_count": 6,
     "metadata": {},
     "output_type": "execute_result"
    }
   ],
   "source": [
    "dog_wide = dog_long.pivot(index=[\"id\", \"condition\"], columns=\"measurement\", values=\"value\").reset_index()\n",
    "dog_wide.head()"
   ]
  },
  {
   "attachments": {},
   "cell_type": "markdown",
   "metadata": {},
   "source": [
    "# Descriptive Statistics"
   ]
  },
  {
   "cell_type": "code",
   "execution_count": 7,
   "metadata": {},
   "outputs": [
    {
     "name": "stdout",
     "output_type": "stream",
     "text": [
      "count    144.000000\n",
      "mean       4.033333\n",
      "std        0.758725\n",
      "min        3.000000\n",
      "25%        3.400000\n",
      "50%        3.950000\n",
      "75%        4.500000\n",
      "max        5.900000\n",
      "Name: value, dtype: float64\n"
     ]
    },
    {
     "data": {
      "image/png": "[encoded data removed]",
      "text/plain": [
       "<Figure size 640x480 with 1 Axes>"
      ]
     },
     "metadata": {},
     "output_type": "display_data"
    },
    {
     "data": {
      "image/png": "[encoded data removed]",
      "text/plain": [
       "<Figure size 640x480 with 1 Axes>"
      ]
     },
     "metadata": {},
     "output_type": "display_data"
    }
   ],
   "source": [
    "# continuous variable\n",
    "print(dog_long[\"value\"].describe())\n",
    "\n",
    "# histogram\n",
    "sns.histplot(data=dog_long, x=\"value\")\n",
    "plt.show()\n",
    "\n",
    "# boxplot\n",
    "sns.boxplot(y=dog_long[\"value\"] )\n",
    "plt.show()\n",
    "\n"
   ]
  },
  {
   "cell_type": "code",
   "execution_count": 8,
   "metadata": {},
   "outputs": [
    {
     "name": "stdout",
     "output_type": "stream",
     "text": [
      "condition\n",
      "4    40\n",
      "1    36\n",
      "3    36\n",
      "2    32\n",
      "Name: count, dtype: int64\n",
      "condition\n",
      "4    0.277778\n",
      "1    0.250000\n",
      "3    0.250000\n",
      "2    0.222222\n",
      "Name: proportion, dtype: float64\n"
     ]
    }
   ],
   "source": [
    "\n",
    "# one-way table for categorical variable\n",
    "print(dog_long[\"condition\"].value_counts())\n",
    "print(dog_long[\"condition\"].value_counts(normalize=True)) # relative frequency"
   ]
  },
  {
   "cell_type": "code",
   "execution_count": 9,
   "metadata": {},
   "outputs": [
    {
     "data": {
      "image/png": "[encoded data removed]",
      "text/plain": [
       "<Figure size 640x480 with 1 Axes>"
      ]
     },
     "metadata": {},
     "output_type": "display_data"
    }
   ],
   "source": [
    "sns.countplot(x = 'condition', data = dog_long, palette = 'hls')\n",
    "plt.show()"
   ]
  },
  {
   "cell_type": "code",
   "execution_count": 19,
   "metadata": {},
   "outputs": [
    {
     "data": {
      "text/html": [
       "<div>\n",
       "<style scoped>\n",
       "    .dataframe tbody tr th:only-of-type {\n",
       "        vertical-align: middle;\n",
       "    }\n",
       "\n",
       "    .dataframe tbody tr th {\n",
       "        vertical-align: top;\n",
       "    }\n",
       "\n",
       "    .dataframe thead th {\n",
       "        text-align: right;\n",
       "    }\n",
       "</style>\n",
       "<table border=\"1\" class=\"dataframe\">\n",
       "  <thead>\n",
       "    <tr style=\"text-align: right;\">\n",
       "      <th>measurement</th>\n",
       "      <th>y1</th>\n",
       "      <th>y2</th>\n",
       "      <th>y3</th>\n",
       "      <th>y4</th>\n",
       "    </tr>\n",
       "    <tr>\n",
       "      <th>condition</th>\n",
       "      <th></th>\n",
       "      <th></th>\n",
       "      <th></th>\n",
       "      <th></th>\n",
       "    </tr>\n",
       "  </thead>\n",
       "  <tbody>\n",
       "    <tr>\n",
       "      <th>1</th>\n",
       "      <td>9</td>\n",
       "      <td>9</td>\n",
       "      <td>9</td>\n",
       "      <td>9</td>\n",
       "    </tr>\n",
       "    <tr>\n",
       "      <th>2</th>\n",
       "      <td>8</td>\n",
       "      <td>8</td>\n",
       "      <td>8</td>\n",
       "      <td>8</td>\n",
       "    </tr>\n",
       "    <tr>\n",
       "      <th>3</th>\n",
       "      <td>9</td>\n",
       "      <td>9</td>\n",
       "      <td>9</td>\n",
       "      <td>9</td>\n",
       "    </tr>\n",
       "    <tr>\n",
       "      <th>4</th>\n",
       "      <td>10</td>\n",
       "      <td>10</td>\n",
       "      <td>10</td>\n",
       "      <td>10</td>\n",
       "    </tr>\n",
       "  </tbody>\n",
       "</table>\n",
       "</div>"
      ],
      "text/plain": [
       "measurement  y1  y2  y3  y4\n",
       "condition                  \n",
       "1             9   9   9   9\n",
       "2             8   8   8   8\n",
       "3             9   9   9   9\n",
       "4            10  10  10  10"
      ]
     },
     "execution_count": 19,
     "metadata": {},
     "output_type": "execute_result"
    }
   ],
   "source": [
    "# 2-way contingency table\n",
    "ct = pd.crosstab(dog_long['condition'], dog_long['measurement'], normalize=False, margins=False)\n",
    "ct"
   ]
  },
  {
   "cell_type": "code",
   "execution_count": 15,
   "metadata": {},
   "outputs": [
    {
     "data": {
      "image/png": "[encoded data removed]",
      "text/plain": [
       "<Figure size 640x480 with 1 Axes>"
      ]
     },
     "metadata": {},
     "output_type": "display_data"
    }
   ],
   "source": [
    "\n",
    "sns.countplot(x = 'condition', hue=\"measurement\", data = dog_long, palette = 'hls')\n",
    "plt.show()"
   ]
  },
  {
   "attachments": {},
   "cell_type": "markdown",
   "metadata": {},
   "source": [
    "Side-by-side boxplot"
   ]
  },
  {
   "cell_type": "code",
   "execution_count": 11,
   "metadata": {},
   "outputs": [
    {
     "data": {
      "image/png": "[encoded data removed]",
      "text/plain": [
       "<Figure size 640x480 with 1 Axes>"
      ]
     },
     "metadata": {},
     "output_type": "display_data"
    }
   ],
   "source": [
    "sns.boxplot( x=dog_long[\"measurement\"], y=dog_long[\"value\"] )\n",
    "plt.show()"
   ]
  },
  {
   "attachments": {},
   "cell_type": "markdown",
   "metadata": {},
   "source": [
    "Scatterplot"
   ]
  },
  {
   "cell_type": "code",
   "execution_count": 12,
   "metadata": {},
   "outputs": [
    {
     "data": {
      "image/png": "[encoded data removed]",
      "text/plain": [
       "<Figure size 500x500 with 1 Axes>"
      ]
     },
     "metadata": {},
     "output_type": "display_data"
    },
    {
     "data": {
      "image/png": "[encoded data removed]",
      "text/plain": [
       "<Figure size 575.361x500 with 1 Axes>"
      ]
     },
     "metadata": {},
     "output_type": "display_data"
    }
   ],
   "source": [
    "sns.lmplot( x=\"y1\", y=\"y2\", data=dog_wide, fit_reg=True, hue='condition', legend=False)\n",
    " \n",
    "# Move the legend to an empty part of the plot\n",
    "plt.legend(loc='lower right')\n",
    "\n",
    "plt.show()\n",
    "\n",
    "g = sns.lmplot(x=\"y1\", y=\"y2\", hue=\"condition\", data=dog_wide, fit_reg=False)\n",
    "sns.regplot(x=\"y1\", y=\"y2\", data=dog_wide, scatter=False, ax=g.axes[0, 0])\n",
    "\n",
    "plt.show()"
   ]
  },
  {
   "attachments": {},
   "cell_type": "markdown",
   "metadata": {},
   "source": [
    "## Contingency table analysis"
   ]
  },
  {
   "cell_type": "code",
   "execution_count": 30,
   "metadata": {},
   "outputs": [
    {
     "name": "stdout",
     "output_type": "stream",
     "text": [
      "Chi-squared statistic: 2.75\n",
      "Degrees of freedom: 4\n",
      "p-value: 0.6004940400362729\n",
      "Expected frequencies:\n",
      " [[1.2 1.  1.8]\n",
      " [2.4 2.  3.6]\n",
      " [2.4 2.  3.6]]\n"
     ]
    }
   ],
   "source": [
    "# one may also use statsmodels.stats.contingency_tables \n",
    "df = pd.DataFrame({'Order': [1, 2, 3, 4, 5, 6, 7, 8, 9, 10,\n",
    "                            11, 12, 13, 14, 15, 16, 17, 18, 19, 20],\n",
    "                   'Product': ['TV', 'TV', 'Comp', 'TV', 'TV', 'Comp',\n",
    "                               'Comp', 'Comp', 'TV', 'Radio', 'TV', 'Radio', 'Radio',\n",
    "                               'Radio', 'Comp', 'Comp', 'TV', 'TV', 'Radio', 'TV'],\n",
    "                   'Country': ['A', 'A', 'A', 'A', 'B', 'B', 'B', 'B', 'B', 'B', 'B',\n",
    "                               'B', 'C', 'C', 'C', 'C', 'C', 'C', 'C', 'C']})\n",
    "\n",
    "# 1. Goodness-of-fit test for one-way table\n",
    "from scipy.stats import chisquare\n",
    "\n",
    "observed = ct['Product'].values # observed frequencies\n",
    "\n",
    "#  null hypothesis: a uniform distribution\n",
    "n = observed.sum()\n",
    "expected = np.array([n/3]*3) # expected frequencies\n",
    "\n",
    "# perform the goodness-of-fit test\n",
    "stat, p = chisquare(observed, expected)\n",
    "\n",
    "print(\"Chi-squared statistic:\", stat)\n",
    "print(\"p-value:\", p)\n",
    "\n",
    "# 2. two-way contingency table\n",
    "ct = pd.crosstab(index=df['Country'], columns=df['Product'])\n",
    "\n",
    "# Pearson's chisquare test\n",
    "from scipy.stats import chi2_contingency\n",
    "\n",
    "stat, p, dof, expected = chi2_contingency(ct)\n",
    "\n",
    "print(\"Chi-squared statistic:\", stat)\n",
    "print(\"Degrees of freedom:\", dof)\n",
    "print(\"p-value:\", p)\n",
    "print(\"Expected frequencies:\\n\", expected)"
   ]
  },
  {
   "attachments": {},
   "cell_type": "markdown",
   "metadata": {},
   "source": [
    "## t-test"
   ]
  },
  {
   "cell_type": "code",
   "execution_count": 31,
   "metadata": {},
   "outputs": [
    {
     "name": "stdout",
     "output_type": "stream",
     "text": [
      "t-statistic: 2.0627806348813893\n",
      "p-value: 0.05307316437726764\n"
     ]
    }
   ],
   "source": [
    "# 1. one-sample t-test\n",
    "from scipy.stats import ttest_1samp\n",
    "\n",
    "# create a random sample\n",
    "sample = np.random.normal(10, 2, size=20)\n",
    "\n",
    "# set the null hypothesis mean\n",
    "null_mean = 9\n",
    "\n",
    "# perform the one-sample t-test\n",
    "t_stat, p_value = ttest_1samp(sample, null_mean)\n",
    "\n",
    "# print the results\n",
    "print(\"t-statistic:\", t_stat)\n",
    "print(\"p-value:\", p_value)"
   ]
  },
  {
   "cell_type": "code",
   "execution_count": 33,
   "metadata": {},
   "outputs": [
    {
     "name": "stdout",
     "output_type": "stream",
     "text": [
      "t-statistic: -2.637855187926157\n",
      "p-value: 0.012024066599466254\n",
      "t-statistic: -2.6378551879261574\n",
      "p-value: 0.012891060401088445\n"
     ]
    }
   ],
   "source": [
    "# 2. two-sample t-test (independent samples)\n",
    "from scipy.stats import ttest_ind\n",
    "\n",
    "# create two random samples with different means\n",
    "sample1 = np.random.normal(10, 2, size=20)\n",
    "sample2 = np.random.normal(12, 3, size=20)\n",
    "\n",
    "# perform the two-sample t-test\n",
    "t_stat, p_value = ttest_ind(sample1, sample2) # default uses equal variance assumption\n",
    "\n",
    "# print the results\n",
    "print(\"t-statistic:\", t_stat)\n",
    "print(\"p-value:\", p_value)\n",
    "\n",
    "# perform the two-sample t-test assuming unequal variances\n",
    "t_stat, p_value = ttest_ind(sample1, sample2, equal_var=False)\n",
    "\n",
    "# print the results\n",
    "print(\"t-statistic:\", t_stat)\n",
    "print(\"p-value:\", p_value)"
   ]
  },
  {
   "attachments": {},
   "cell_type": "markdown",
   "metadata": {},
   "source": [
    "It should be noted that the ttest_ind() function in scipy does not calculate the Welch's t-statistic properly when assming unequal variance. Next, it shows how to do the test using the pingouin package."
   ]
  },
  {
   "cell_type": "code",
   "execution_count": 36,
   "metadata": {},
   "outputs": [
    {
     "name": "stdout",
     "output_type": "stream",
     "text": [
      "               T  dof alternative     p-val           CI95%   cohen-d   BF10   \n",
      "T-test -2.637855   38   two-sided  0.012024  [-3.96, -0.52]  0.834163  4.311  \\\n",
      "\n",
      "           power  \n",
      "T-test  0.729315  \n",
      "               T        dof alternative     p-val           CI95%   cohen-d   \n",
      "T-test -2.637855  31.237996   two-sided  0.012891  [-3.97, -0.51]  0.834163  \\\n",
      "\n",
      "         BF10     power  \n",
      "T-test  4.311  0.729315  \n"
     ]
    }
   ],
   "source": [
    "import pingouin as pg\n",
    "\n",
    "result0 = pg.ttest(sample1,\n",
    "                  sample2)\n",
    " \n",
    "# Print the result\n",
    "print(result0)\n",
    "\n",
    "result = pg.ttest(sample1,\n",
    "                  sample2,\n",
    "                  correction=True)\n",
    " \n",
    "# Print the result\n",
    "print(result)"
   ]
  },
  {
   "cell_type": "code",
   "execution_count": 42,
   "metadata": {},
   "outputs": [
    {
     "data": {
      "text/plain": [
       "TtestResult(statistic=2.584921310565987, pvalue=0.029457853822895275, df=9)"
      ]
     },
     "execution_count": 42,
     "metadata": {},
     "output_type": "execute_result"
    }
   ],
   "source": [
    "# 3. paired t-test\n",
    "\n",
    "import scipy.stats as stats\n",
    "  \n",
    "# pre holds the mileage before \n",
    "# applying the different engine oil\n",
    "pre = [30, 31, 34, 40, 36, 35,\n",
    "       34, 30, 28, 29]\n",
    "  \n",
    "# post holds the mileage after \n",
    "# applying the different engine oil\n",
    "post = [30, 31, 32, 38, 32, 31,\n",
    "        32, 29, 28, 30]\n",
    "  \n",
    "# Performing the paired sample t-test\n",
    "stats.ttest_rel(pre, post)"
   ]
  },
  {
   "attachments": {},
   "cell_type": "markdown",
   "metadata": {},
   "source": [
    "## Inference on proportion parameters"
   ]
  },
  {
   "cell_type": "code",
   "execution_count": 41,
   "metadata": {},
   "outputs": [
    {
     "name": "stdout",
     "output_type": "stream",
     "text": [
      "z-test statistic: -0.8164965809277268\n",
      "pvalue: 0.41421617824252466\n"
     ]
    }
   ],
   "source": [
    "from statsmodels.stats.proportion import proportions_ztest\n",
    "\n",
    "# 1. perform one proportion z-test\n",
    "\n",
    "# H_A: p>p0\n",
    "# result = proportions_ztest(count=60, nobs=100, value=0.64,  alternative='larger')\n",
    "# H_A: p<p0\n",
    "# result = proportions_ztest(count=60, nobs=100, value=0.64,  alternative='smaller')\n",
    "\n",
    "# two-sided alternative\n",
    "result = proportions_ztest(count=60, nobs=100, value=0.64,  alternative='two-sided')\n",
    "\n",
    "print(\"z-test statistic:\", result[0])\n",
    "print(\"pvalue:\", result[1])"
   ]
  },
  {
   "cell_type": "code",
   "execution_count": 44,
   "metadata": {},
   "outputs": [
    {
     "name": "stdout",
     "output_type": "stream",
     "text": [
      "z-test statistic: -1.482498633322202\n",
      "pvalue: 0.13820766697402584\n"
     ]
    }
   ],
   "source": [
    "# 2. compare two proportions\n",
    "result = proportions_ztest(count=np.array([60,70]), nobs=np.array([100,100]), alternative='two-sided')\n",
    "print(\"z-test statistic:\", result[0])\n",
    "print(\"pvalue:\", result[1])\n"
   ]
  },
  {
   "cell_type": "code",
   "execution_count": 45,
   "metadata": {},
   "outputs": [
    {
     "name": "stdout",
     "output_type": "stream",
     "text": [
      "odd ratio is : 0.10714285714285714\n",
      "p_value is : 0.06977851869492736\n"
     ]
    }
   ],
   "source": [
    "# 3. Fisher's exact test\n",
    "# creating data\n",
    "data = [[2, 8], [7, 3]]\n",
    "  \n",
    "# performing fishers exact test on the data\n",
    "odd_ratio, p_value = stats.fisher_exact(data)\n",
    "print('odd ratio is : ' + str(odd_ratio))\n",
    "print('p_value is : ' + str(p_value))"
   ]
  },
  {
   "cell_type": "code",
   "execution_count": 47,
   "metadata": {},
   "outputs": [
    {
     "name": "stdout",
     "output_type": "stream",
     "text": [
      "statistic=10.000, p-value=0.099\n",
      "Same proportions of errors (fail to reject H0)\n"
     ]
    }
   ],
   "source": [
    "# 4. McNemar test for paired binary data\n",
    "from statsmodels.stats.contingency_tables import mcnemar\n",
    "# define contingency table\n",
    "table = [[40, 20],\n",
    "\t\t [10, 30]]\n",
    "# calculate mcnemar test\n",
    "result = mcnemar(table, exact=True)\n",
    "# summarize the finding\n",
    "print('statistic=%.3f, p-value=%.3f' % (result.statistic, result.pvalue))\n",
    "# interpret the p-value\n",
    "alpha = 0.05\n",
    "if result.pvalue > alpha:\n",
    "\tprint('Same proportions of errors (fail to reject H0)')\n",
    "else:\n",
    "\tprint('Different proportions of errors (reject H0)')"
   ]
  },
  {
   "attachments": {},
   "cell_type": "markdown",
   "metadata": {},
   "source": [
    "# Simple Linear Regression"
   ]
  },
  {
   "cell_type": "code",
   "execution_count": 51,
   "metadata": {},
   "outputs": [
    {
     "data": {
      "text/plain": [
       "<matplotlib.collections.PathCollection at 0x2902dc40dc0>"
      ]
     },
     "execution_count": 51,
     "metadata": {},
     "output_type": "execute_result"
    },
    {
     "data": {
      "image/png": "[encoded data removed]",
      "text/plain": [
       "<Figure size 640x480 with 1 Axes>"
      ]
     },
     "metadata": {},
     "output_type": "display_data"
    }
   ],
   "source": [
    "from sklearn.linear_model import LinearRegression\n",
    "  \n",
    "# initialize data of lists.\n",
    "data = {'x': [5, 15, 25, 35, 45, 55],\n",
    "        'y': [5, 20, 14, 32, 22, 38]}\n",
    "  \n",
    "# Create DataFrame\n",
    "df = pd.DataFrame(data)\n",
    "  \n",
    "plt.scatter(df['x'], df['y'])"
   ]
  },
  {
   "cell_type": "code",
   "execution_count": 53,
   "metadata": {},
   "outputs": [
    {
     "name": "stderr",
     "output_type": "stream",
     "text": [
      "C:\\Users\\Nan\\AppData\\Roaming\\Python\\Python310\\site-packages\\statsmodels\\stats\\stattools.py:74: ValueWarning: omni_normtest is not valid with less than 8 observations; 6 samples were given.\n",
      "  warn(\"omni_normtest is not valid with less than 8 observations; %i \"\n"
     ]
    },
    {
     "data": {
      "text/html": [
       "<table class=\"simpletable\">\n",
       "<caption>OLS Regression Results</caption>\n",
       "<tr>\n",
       "  <th>Dep. Variable:</th>            <td>y</td>        <th>  R-squared:         </th> <td>   0.716</td>\n",
       "</tr>\n",
       "<tr>\n",
       "  <th>Model:</th>                   <td>OLS</td>       <th>  Adj. R-squared:    </th> <td>   0.645</td>\n",
       "</tr>\n",
       "<tr>\n",
       "  <th>Method:</th>             <td>Least Squares</td>  <th>  F-statistic:       </th> <td>   10.08</td>\n",
       "</tr>\n",
       "<tr>\n",
       "  <th>Date:</th>             <td>Tue, 25 Apr 2023</td> <th>  Prob (F-statistic):</th>  <td>0.0337</td> \n",
       "</tr>\n",
       "<tr>\n",
       "  <th>Time:</th>                 <td>23:18:07</td>     <th>  Log-Likelihood:    </th> <td> -19.071</td>\n",
       "</tr>\n",
       "<tr>\n",
       "  <th>No. Observations:</th>      <td>     6</td>      <th>  AIC:               </th> <td>   42.14</td>\n",
       "</tr>\n",
       "<tr>\n",
       "  <th>Df Residuals:</th>          <td>     4</td>      <th>  BIC:               </th> <td>   41.73</td>\n",
       "</tr>\n",
       "<tr>\n",
       "  <th>Df Model:</th>              <td>     1</td>      <th>                     </th>     <td> </td>   \n",
       "</tr>\n",
       "<tr>\n",
       "  <th>Covariance Type:</th>      <td>nonrobust</td>    <th>                     </th>     <td> </td>   \n",
       "</tr>\n",
       "</table>\n",
       "<table class=\"simpletable\">\n",
       "<tr>\n",
       "      <td></td>         <th>coef</th>     <th>std err</th>      <th>t</th>      <th>P>|t|</th>  <th>[0.025</th>    <th>0.975]</th>  \n",
       "</tr>\n",
       "<tr>\n",
       "  <th>Intercept</th> <td>    5.6333</td> <td>    5.872</td> <td>    0.959</td> <td> 0.392</td> <td>  -10.670</td> <td>   21.936</td>\n",
       "</tr>\n",
       "<tr>\n",
       "  <th>x</th>         <td>    0.5400</td> <td>    0.170</td> <td>    3.175</td> <td> 0.034</td> <td>    0.068</td> <td>    1.012</td>\n",
       "</tr>\n",
       "</table>\n",
       "<table class=\"simpletable\">\n",
       "<tr>\n",
       "  <th>Omnibus:</th>       <td>   nan</td> <th>  Durbin-Watson:     </th> <td>   3.606</td>\n",
       "</tr>\n",
       "<tr>\n",
       "  <th>Prob(Omnibus):</th> <td>   nan</td> <th>  Jarque-Bera (JB):  </th> <td>   0.651</td>\n",
       "</tr>\n",
       "<tr>\n",
       "  <th>Skew:</th>          <td> 0.008</td> <th>  Prob(JB):          </th> <td>   0.722</td>\n",
       "</tr>\n",
       "<tr>\n",
       "  <th>Kurtosis:</th>      <td> 1.387</td> <th>  Cond. No.          </th> <td>    69.8</td>\n",
       "</tr>\n",
       "</table><br/><br/>Notes:<br/>[1] Standard Errors assume that the covariance matrix of the errors is correctly specified."
      ],
      "text/plain": [
       "<class 'statsmodels.iolib.summary.Summary'>\n",
       "\"\"\"\n",
       "                            OLS Regression Results                            \n",
       "==============================================================================\n",
       "Dep. Variable:                      y   R-squared:                       0.716\n",
       "Model:                            OLS   Adj. R-squared:                  0.645\n",
       "Method:                 Least Squares   F-statistic:                     10.08\n",
       "Date:                Tue, 25 Apr 2023   Prob (F-statistic):             0.0337\n",
       "Time:                        23:18:07   Log-Likelihood:                -19.071\n",
       "No. Observations:                   6   AIC:                             42.14\n",
       "Df Residuals:                       4   BIC:                             41.73\n",
       "Df Model:                           1                                         \n",
       "Covariance Type:            nonrobust                                         \n",
       "==============================================================================\n",
       "                 coef    std err          t      P>|t|      [0.025      0.975]\n",
       "------------------------------------------------------------------------------\n",
       "Intercept      5.6333      5.872      0.959      0.392     -10.670      21.936\n",
       "x              0.5400      0.170      3.175      0.034       0.068       1.012\n",
       "==============================================================================\n",
       "Omnibus:                          nan   Durbin-Watson:                   3.606\n",
       "Prob(Omnibus):                    nan   Jarque-Bera (JB):                0.651\n",
       "Skew:                           0.008   Prob(JB):                        0.722\n",
       "Kurtosis:                       1.387   Cond. No.                         69.8\n",
       "==============================================================================\n",
       "\n",
       "Notes:\n",
       "[1] Standard Errors assume that the covariance matrix of the errors is correctly specified.\n",
       "\"\"\""
      ]
     },
     "execution_count": 53,
     "metadata": {},
     "output_type": "execute_result"
    }
   ],
   "source": [
    "import statsmodels.formula.api as smf\n",
    "model = smf.ols(\"y ~ x\", df).fit()\n",
    "model.summary()"
   ]
  },
  {
   "cell_type": "code",
   "execution_count": 55,
   "metadata": {},
   "outputs": [
    {
     "name": "stdout",
     "output_type": "stream",
     "text": [
      "\n",
      "ANOVA results\n",
      "           df      sum_sq     mean_sq          F    PR(>F)\n",
      "x         1.0  510.300000  510.300000  10.078341  0.033708\n",
      "Residual  4.0  202.533333   50.633333        NaN       NaN\n"
     ]
    }
   ],
   "source": [
    "# Peform analysis of variance on fitted linear model\n",
    "from statsmodels.stats.anova import anova_lm\n",
    "\n",
    "anova_results = anova_lm(model)\n",
    "\n",
    "print('\\nANOVA results')\n",
    "print(anova_results)"
   ]
  },
  {
   "cell_type": "code",
   "execution_count": 60,
   "metadata": {},
   "outputs": [
    {
     "data": {
      "image/png": "[encoded data removed]",
      "text/plain": [
       "<Figure size 640x480 with 1 Axes>"
      ]
     },
     "metadata": {},
     "output_type": "display_data"
    }
   ],
   "source": [
    "# Prediction interval\n",
    "alpha = .05\n",
    "predictions = model.get_prediction(df).summary_frame(alpha)\n",
    "\n",
    "plt.scatter(df['x'], df['y'], label='Observed', marker='x', color='black')\n",
    "plt.plot(df['x'], predictions['mean'], label='Regression line')\n",
    "# confidence interval for the mean\n",
    "plt.fill_between(df['x'], predictions['mean_ci_lower'], predictions['mean_ci_upper'], alpha=.5, label='Confidence interval')\n",
    "# prediction interval for the response\n",
    "plt.fill_between(df['x'], predictions['obs_ci_lower'], predictions['obs_ci_upper'], alpha=.1, label='Prediction interval')\n",
    "plt.xlabel('x')\n",
    "plt.ylabel('y')\n",
    "plt.legend(loc='upper left')\n",
    "plt.show()"
   ]
  },
  {
   "attachments": {},
   "cell_type": "markdown",
   "metadata": {},
   "source": [
    "# Resources:\n",
    "\n",
    "- take a specific subset https://pandas.pydata.org/docs/getting_started/intro_tutorials/03_subset_data.html\n",
    "- add new column https://www.geeksforgeeks.org/adding-new-column-to-existing-dataframe-in-pandas/\n",
    "- add new row https://www.geeksforgeeks.org/how-to-add-one-row-in-an-existing-pandas-dataframe/"
   ]
  }
 ],
 "metadata": {
  "kernelspec": {
   "display_name": "Python 3",
   "language": "python",
   "name": "python3"
  },
  "language_info": {
   "codemirror_mode": {
    "name": "ipython",
    "version": 3
   },
   "file_extension": ".py",
   "mimetype": "text/x-python",
   "name": "python",
   "nbconvert_exporter": "python",
   "pygments_lexer": "ipython3",
   "version": "3.10.10"
  },
  "orig_nbformat": 4
 },
 "nbformat": 4,
 "nbformat_minor": 2
}
